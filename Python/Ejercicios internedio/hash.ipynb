{
 "cells": [
  {
   "cell_type": "code",
   "execution_count": 62,
   "metadata": {},
   "outputs": [],
   "source": [
    "abc = ['a', 'b', 'c', 'd', 'e', 'f', 'g', 'h', 'i', 'j', 'k', 'l', 'm', 'n', 'o', 'p', 'q', 'r', 's', 't', 'u', 'v', 'w', 'x', 'y', 'z']"
   ]
  },
  {
   "cell_type": "code",
   "execution_count": 63,
   "metadata": {},
   "outputs": [],
   "source": [
    "def hash_v1(letra):\n",
    "    i = 0\n",
    "    while i < len(abc):\n",
    "        if abc[i] == letra and abc[i] != 'z':\n",
    "            return abc[i + 1]\n",
    "        elif letra == 'z':\n",
    "            return 'a'\n",
    "        elif letra == ' ':\n",
    "            return ' '\n",
    "        \n",
    "        i += 1\n",
    "\n",
    "        "
   ]
  },
  {
   "cell_type": "code",
   "execution_count": 64,
   "metadata": {},
   "outputs": [
    {
     "name": "stdout",
     "output_type": "stream",
     "text": [
      "ipmb nvoep\n"
     ]
    }
   ],
   "source": [
    "cadena = 'hola mundo'\n",
    "cadena_hash = ''\n",
    "\n",
    "for letra in cadena:\n",
    "    cadena_hash += hash_v1(letra)\n",
    "    \n",
    "print(cadena_hash)"
   ]
  },
  {
   "cell_type": "code",
   "execution_count": 92,
   "metadata": {},
   "outputs": [],
   "source": [
    "def hash_v2():\n",
    "    i = 0\n",
    "    hash_dict = {}\n",
    "    hash_dict[abc[len(abc)-1]] = abc[0]\n",
    "    hash_dict[' '] = ' '\n",
    "    \n",
    "    while i < len(abc) - 1:\n",
    "        hash_dict[abc[i]] = abc[i + 1]\n",
    "        i += 1\n",
    "    return hash_dict"
   ]
  },
  {
   "cell_type": "code",
   "execution_count": 95,
   "metadata": {},
   "outputs": [
    {
     "name": "stdout",
     "output_type": "stream",
     "text": [
      "ipmb nvoep\n"
     ]
    }
   ],
   "source": [
    "cadena = 'hola mundo'\n",
    "cadena_hash = ''\n",
    "\n",
    "for letra in cadena:\n",
    "    cadena_hash += hash_v2()[letra]\n",
    "print(cadena_hash)"
   ]
  },
  {
   "cell_type": "code",
   "execution_count": null,
   "metadata": {},
   "outputs": [],
   "source": []
  }
 ],
 "metadata": {
  "kernelspec": {
   "display_name": "Python 3",
   "language": "python",
   "name": "python3"
  },
  "language_info": {
   "codemirror_mode": {
    "name": "ipython",
    "version": 3
   },
   "file_extension": ".py",
   "mimetype": "text/x-python",
   "name": "python",
   "nbconvert_exporter": "python",
   "pygments_lexer": "ipython3",
   "version": "3.8.5"
  }
 },
 "nbformat": 4,
 "nbformat_minor": 4
}
