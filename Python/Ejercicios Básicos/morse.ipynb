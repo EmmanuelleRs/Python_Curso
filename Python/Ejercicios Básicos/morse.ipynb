{
 "cells": [
  {
   "cell_type": "code",
   "execution_count": 8,
   "metadata": {},
   "outputs": [],
   "source": [
    "morse = {\n",
    "    'a': '.-',\n",
    "    'b': '-...',\n",
    "    'c': '-.-.',\n",
    "    'd': '-..',\n",
    "    'e': '.',\n",
    "    'f': '..-.',\n",
    "    'g': '--.',\n",
    "    'h': '....',\n",
    "    'i': '..',\n",
    "    'j': '.---',\n",
    "    'k': '-.-',\n",
    "    'l': '.-..',\n",
    "    'm': '--',\n",
    "    'n': '-.',\n",
    "    'o': '---',\n",
    "    'p': '.--.',\n",
    "    'q': '--.-',\n",
    "    'r': '.-.',\n",
    "    's': '...',\n",
    "    't': '-',\n",
    "    'u': '..-',\n",
    "    'v': '...-',\n",
    "    'w': '.--',\n",
    "    'x': '-..-',\n",
    "    'y': '-.--',\n",
    "    'z': '--..',\n",
    "    ' ': ' '\n",
    "}"
   ]
  },
  {
   "cell_type": "code",
   "execution_count": 9,
   "metadata": {},
   "outputs": [],
   "source": [
    "def to_morse(cadena):\n",
    "    nueva_cadena = ''\n",
    "    for letra in cadena:\n",
    "        nueva_cadena += morse[letra]\n",
    "    return nueva_cadena"
   ]
  },
  {
   "cell_type": "code",
   "execution_count": 11,
   "metadata": {},
   "outputs": [
    {
     "data": {
      "text/plain": [
       "'....---.-...- --..--.-..---'"
      ]
     },
     "execution_count": 11,
     "metadata": {},
     "output_type": "execute_result"
    }
   ],
   "source": [
    "to_morse('hola mundo')"
   ]
  },
  {
   "cell_type": "code",
   "execution_count": null,
   "metadata": {},
   "outputs": [],
   "source": []
  }
 ],
 "metadata": {
  "kernelspec": {
   "display_name": "Python 3",
   "language": "python",
   "name": "python3"
  },
  "language_info": {
   "codemirror_mode": {
    "name": "ipython",
    "version": 3
   },
   "file_extension": ".py",
   "mimetype": "text/x-python",
   "name": "python",
   "nbconvert_exporter": "python",
   "pygments_lexer": "ipython3",
   "version": "3.8.5"
  }
 },
 "nbformat": 4,
 "nbformat_minor": 4
}
